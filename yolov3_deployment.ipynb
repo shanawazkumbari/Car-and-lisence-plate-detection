{
  "nbformat": 4,
  "nbformat_minor": 0,
  "metadata": {
    "colab": {
      "name": "yolov3_deployment.ipynb",
      "provenance": [],
      "collapsed_sections": []
    },
    "kernelspec": {
      "name": "python3",
      "display_name": "Python 3"
    },
    "language_info": {
      "name": "python"
    },
    "accelerator": "GPU"
  },
  "cells": [
    {
      "cell_type": "code",
      "metadata": {
        "colab": {
          "base_uri": "https://localhost:8080/"
        },
        "id": "P2Ak--C4L1Su",
        "outputId": "307108dd-e091-475f-9d66-bdfe094a0c01"
      },
      "source": [
        "pip install flask_ngrok"
      ],
      "execution_count": 1,
      "outputs": [
        {
          "output_type": "stream",
          "text": [
            "Collecting flask_ngrok\n",
            "  Downloading https://files.pythonhosted.org/packages/af/6c/f54cb686ad1129e27d125d182f90f52b32f284e6c8df58c1bae54fa1adbc/flask_ngrok-0.0.25-py3-none-any.whl\n",
            "Requirement already satisfied: Flask>=0.8 in /usr/local/lib/python3.7/dist-packages (from flask_ngrok) (1.1.4)\n",
            "Requirement already satisfied: requests in /usr/local/lib/python3.7/dist-packages (from flask_ngrok) (2.23.0)\n",
            "Requirement already satisfied: itsdangerous<2.0,>=0.24 in /usr/local/lib/python3.7/dist-packages (from Flask>=0.8->flask_ngrok) (1.1.0)\n",
            "Requirement already satisfied: click<8.0,>=5.1 in /usr/local/lib/python3.7/dist-packages (from Flask>=0.8->flask_ngrok) (7.1.2)\n",
            "Requirement already satisfied: Werkzeug<2.0,>=0.15 in /usr/local/lib/python3.7/dist-packages (from Flask>=0.8->flask_ngrok) (1.0.1)\n",
            "Requirement already satisfied: Jinja2<3.0,>=2.10.1 in /usr/local/lib/python3.7/dist-packages (from Flask>=0.8->flask_ngrok) (2.11.3)\n",
            "Requirement already satisfied: certifi>=2017.4.17 in /usr/local/lib/python3.7/dist-packages (from requests->flask_ngrok) (2020.12.5)\n",
            "Requirement already satisfied: urllib3!=1.25.0,!=1.25.1,<1.26,>=1.21.1 in /usr/local/lib/python3.7/dist-packages (from requests->flask_ngrok) (1.24.3)\n",
            "Requirement already satisfied: chardet<4,>=3.0.2 in /usr/local/lib/python3.7/dist-packages (from requests->flask_ngrok) (3.0.4)\n",
            "Requirement already satisfied: idna<3,>=2.5 in /usr/local/lib/python3.7/dist-packages (from requests->flask_ngrok) (2.10)\n",
            "Requirement already satisfied: MarkupSafe>=0.23 in /usr/local/lib/python3.7/dist-packages (from Jinja2<3.0,>=2.10.1->Flask>=0.8->flask_ngrok) (2.0.1)\n",
            "Installing collected packages: flask-ngrok\n",
            "Successfully installed flask-ngrok-0.0.25\n"
          ],
          "name": "stdout"
        }
      ]
    },
    {
      "cell_type": "code",
      "metadata": {
        "id": "mwQgt9Y1MA8H"
      },
      "source": [
        "from __future__ import division, print_function\n",
        "# coding=utf-8\n",
        "import sys\n",
        "import os\n",
        "import glob\n",
        "import re\n",
        "import numpy as np\n",
        "import cv2\n",
        "\n",
        "# Flask utils\n",
        "from flask import Flask, redirect, url_for, request, render_template\n",
        "from werkzeug.utils import secure_filename\n",
        "#from gevent.pywsgi import WSGIServer\n",
        "from flask_ngrok import run_with_ngrok\n",
        "from flask import send_file\n",
        "\n",
        "from matplotlib import pyplot as plt"
      ],
      "execution_count": 2,
      "outputs": []
    },
    {
      "cell_type": "code",
      "metadata": {
        "colab": {
          "base_uri": "https://localhost:8080/"
        },
        "id": "TWWvKTbcM6Kv",
        "outputId": "b4857084-8226-4f30-c694-1be48859644f"
      },
      "source": [
        "cd '/content/drive/MyDrive/yolo_deploy'"
      ],
      "execution_count": 14,
      "outputs": [
        {
          "output_type": "stream",
          "text": [
            "/content/drive/MyDrive/yolo_deploy\n"
          ],
          "name": "stdout"
        }
      ]
    },
    {
      "cell_type": "code",
      "metadata": {
        "id": "IKDTlp8ZPklt",
        "colab": {
          "base_uri": "https://localhost:8080/"
        },
        "outputId": "04758177-0efa-4a82-9386-f2387b15f40e"
      },
      "source": [
        "!mkdir /content/uploads"
      ],
      "execution_count": 15,
      "outputs": [
        {
          "output_type": "stream",
          "text": [
            "mkdir: cannot create directory ‘/content/uploads’: File exists\n"
          ],
          "name": "stdout"
        }
      ]
    },
    {
      "cell_type": "code",
      "metadata": {
        "id": "B7YNJw3XRiDp"
      },
      "source": [
        "\n",
        "net = cv2.dnn.readNet('/content/drive/MyDrive/yolov3/yolov3_training_last.weights', '/content/drive/MyDrive/yolov3/yolov3_testing.cfg')\n",
        "\n",
        "classes = []\n",
        "with open(\"/content/drive/MyDrive/yolov3/classes.txt\", \"r\") as f:\n",
        "    classes = f.read().splitlines()\n",
        "\n",
        "#cap = cv2.VideoCapture('video4.mp4')\n",
        "#cap = 'test_images/<your_test_image>.jpg'\n",
        "font = cv2.FONT_HERSHEY_PLAIN\n",
        "colors = np.random.uniform(0, 255, size=(100, 3))"
      ],
      "execution_count": 5,
      "outputs": []
    },
    {
      "cell_type": "code",
      "metadata": {
        "id": "CmLHdEBReVOv"
      },
      "source": [
        "cv2.imread('/static/detections/result.png')"
      ],
      "execution_count": 6,
      "outputs": []
    },
    {
      "cell_type": "code",
      "metadata": {
        "colab": {
          "base_uri": "https://localhost:8080/"
        },
        "id": "kZcjnRZuMF_b",
        "outputId": "f1fca357-c485-4dab-a5a6-fd4ed36f5773"
      },
      "source": [
        "\n",
        "# Define a flask app\n",
        "app = Flask(__name__)\n",
        "run_with_ngrok(app)\n",
        "\n",
        "\n",
        "@app.route('/', methods=['GET'])\n",
        "def index():\n",
        "    # Main page\n",
        "    return render_template('index.html')\n",
        "\n",
        "\n",
        "@app.route('/uploader', methods=['GET', 'POST'])\n",
        "def upload():\n",
        "    if request.method == 'POST':\n",
        "        # Get the file from post request\n",
        "        f = request.files['file']\n",
        "\n",
        "        # Save the file to ./uploads\n",
        "        basepath = '/content/drive/MyDrive/yolo_deploy/static/uploads'\n",
        "        file_path = os.path.join(\n",
        "            basepath, secure_filename(f.filename))\n",
        "        f.save(file_path)\n",
        "        print('filename is :',secure_filename(f.filename))\n",
        "\n",
        "        \n",
        "\n",
        "        #while True:\n",
        "        #_, img = cap.read()\n",
        "        img = cv2.imread(file_path)\n",
        "        print('read successful')\n",
        "        height, width, _ = img.shape\n",
        "\n",
        "        blob = cv2.dnn.blobFromImage(img, 1/255, (416, 416), (0,0,0), swapRB=True, crop=False)\n",
        "        net.setInput(blob)\n",
        "        output_layers_names = net.getUnconnectedOutLayersNames()\n",
        "        layerOutputs = net.forward(output_layers_names)\n",
        "\n",
        "        boxes = []\n",
        "        confidences = []\n",
        "        class_ids = []\n",
        "        print('next1')\n",
        "\n",
        "        for output in layerOutputs:\n",
        "            for detection in output:\n",
        "                scores = detection[5:]\n",
        "                class_id = np.argmax(scores)\n",
        "                confidence = scores[class_id]\n",
        "                if confidence > 0.2:\n",
        "                    center_x = int(detection[0]*width)\n",
        "                    center_y = int(detection[1]*height)\n",
        "                    w = int(detection[2]*width)\n",
        "                    h = int(detection[3]*height)\n",
        "\n",
        "                    x = int(center_x - w/2)\n",
        "                    y = int(center_y - h/2)\n",
        "\n",
        "                    boxes.append([x, y, w, h])\n",
        "                    confidences.append((float(confidence)))\n",
        "                    class_ids.append(class_id)\n",
        "        print('next2')\n",
        "\n",
        "        indexes = cv2.dnn.NMSBoxes(boxes, confidences, 0.2, 0.4)\n",
        "        print('next3')\n",
        "\n",
        "        if len(indexes)>0:\n",
        "            for i in indexes.flatten():\n",
        "                x, y, w, h = boxes[i]\n",
        "                label = str(classes[class_ids[i]])\n",
        "                confidence = str(round(confidences[i],2))\n",
        "                color = colors[i]\n",
        "                cv2.rectangle(img, (x,y), (x+w, y+h), color, 2)\n",
        "                cv2.putText(img, label + \" \" + confidence, (x, y+20), font, 1, (255,255,255), 2)\n",
        "        print('next3')\n",
        "        #cv2.imwrite('/content/drive/MyDrive/yolo_deploy/static/detections/result.png',img)\n",
        "        cv2.imwrite(os.path.join('/content/drive/MyDrive/yolo_deploy/static/detections', secure_filename(f.filename)),img)\n",
        "        #from google.colab.patches import cv2_imshow\n",
        "        #cv2_imshow(img)\n",
        "        #cv2.imshow('Image', img)\n",
        "        plt.imshow(img)\n",
        "        #result = plt.savefig('/content/drive/MyDrive/yolo_deploy/static/detections/result.png')\n",
        "        #file_path_result = '/content/drive/MyDrive/yolo_deploy/static/detections/result.png'\n",
        "        filename = secure_filename(f.filename)\n",
        "        #filename = 'result.png'\n",
        "        file_img = secure_filename(f.filename)\n",
        "        print('next4')\n",
        "\n",
        "        return render_template(\"uploaded.html\", display_detection = filename, fname = file_img)\n",
        "        print('done')\n",
        "          #return send_file(('/content/result.jpg'), mimetype=\"image/jpeg\", attachment_filename=\"result.jpg\")\n",
        "    return None\n",
        "\n",
        "\n",
        "if __name__ == '__main__':\n",
        "    app.run()"
      ],
      "execution_count": null,
      "outputs": [
        {
          "output_type": "stream",
          "text": [
            " * Serving Flask app \"__main__\" (lazy loading)\n",
            " * Environment: production\n",
            "\u001b[31m   WARNING: This is a development server. Do not use it in a production deployment.\u001b[0m\n",
            "\u001b[2m   Use a production WSGI server instead.\u001b[0m\n",
            " * Debug mode: off\n"
          ],
          "name": "stdout"
        },
        {
          "output_type": "stream",
          "text": [
            " * Running on http://127.0.0.1:5000/ (Press CTRL+C to quit)\n"
          ],
          "name": "stderr"
        },
        {
          "output_type": "stream",
          "text": [
            " * Running on http://b4b420c500d7.ngrok.io\n",
            " * Traffic stats available on http://127.0.0.1:4040\n"
          ],
          "name": "stdout"
        },
        {
          "output_type": "stream",
          "text": [
            "127.0.0.1 - - [31/May/2021 12:00:12] \"\u001b[37mGET / HTTP/1.1\u001b[0m\" 200 -\n",
            "127.0.0.1 - - [31/May/2021 12:00:12] \"\u001b[37mGET /static/css/main.css HTTP/1.1\u001b[0m\" 200 -\n",
            "127.0.0.1 - - [31/May/2021 12:00:13] \"\u001b[33mGET /favicon.ico HTTP/1.1\u001b[0m\" 404 -\n"
          ],
          "name": "stderr"
        },
        {
          "output_type": "stream",
          "text": [
            "filename is : Cars89.png\n",
            "read successful\n"
          ],
          "name": "stdout"
        },
        {
          "output_type": "stream",
          "text": [
            "[2021-05-31 12:00:28,884] ERROR in app: Exception on /uploader [GET]\n",
            "Traceback (most recent call last):\n",
            "  File \"/usr/local/lib/python3.7/dist-packages/flask/app.py\", line 2447, in wsgi_app\n",
            "    response = self.full_dispatch_request()\n",
            "  File \"/usr/local/lib/python3.7/dist-packages/flask/app.py\", line 1953, in full_dispatch_request\n",
            "    return self.finalize_request(rv)\n",
            "  File \"/usr/local/lib/python3.7/dist-packages/flask/app.py\", line 1968, in finalize_request\n",
            "    response = self.make_response(rv)\n",
            "  File \"/usr/local/lib/python3.7/dist-packages/flask/app.py\", line 2098, in make_response\n",
            "    \"The view function did not return a valid response. The\"\n",
            "TypeError: The view function did not return a valid response. The function either returned None or ended without a return statement.\n",
            "127.0.0.1 - - [31/May/2021 12:00:28] \"\u001b[35m\u001b[1mGET /uploader HTTP/1.1\u001b[0m\" 500 -\n",
            "127.0.0.1 - - [31/May/2021 12:00:29] \"\u001b[37mPOST /uploader HTTP/1.1\u001b[0m\" 200 -\n"
          ],
          "name": "stderr"
        },
        {
          "output_type": "stream",
          "text": [
            "next1\n",
            "next2\n",
            "next3\n",
            "next3\n",
            "next4\n"
          ],
          "name": "stdout"
        },
        {
          "output_type": "stream",
          "text": [
            "127.0.0.1 - - [31/May/2021 12:00:30] \"\u001b[37mGET /static/uploads/Cars89.png HTTP/1.1\u001b[0m\" 200 -\n",
            "127.0.0.1 - - [31/May/2021 12:00:30] \"\u001b[37mGET /static/detections/Cars89.png HTTP/1.1\u001b[0m\" 200 -\n"
          ],
          "name": "stderr"
        },
        {
          "output_type": "stream",
          "text": [
            "filename is : Cars103.png\n",
            "read successful\n"
          ],
          "name": "stdout"
        },
        {
          "output_type": "stream",
          "text": [
            "127.0.0.1 - - [31/May/2021 12:01:06] \"\u001b[37mPOST /uploader HTTP/1.1\u001b[0m\" 200 -\n"
          ],
          "name": "stderr"
        },
        {
          "output_type": "stream",
          "text": [
            "next1\n",
            "next2\n",
            "next3\n",
            "next3\n",
            "next4\n"
          ],
          "name": "stdout"
        },
        {
          "output_type": "stream",
          "text": [
            "127.0.0.1 - - [31/May/2021 12:01:06] \"\u001b[37mGET /static/uploads/Cars103.png HTTP/1.1\u001b[0m\" 200 -\n",
            "127.0.0.1 - - [31/May/2021 12:01:06] \"\u001b[37mGET /static/detections/Cars103.png HTTP/1.1\u001b[0m\" 200 -\n"
          ],
          "name": "stderr"
        }
      ]
    }
  ]
}